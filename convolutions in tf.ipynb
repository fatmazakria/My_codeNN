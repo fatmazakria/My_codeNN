{
 "cells": [
  {
   "cell_type": "code",
   "execution_count": 1,
   "metadata": {},
   "outputs": [],
   "source": [
    "import tensorflow as tf\n",
    "import numpy as np"
   ]
  },
  {
   "cell_type": "code",
   "execution_count": 2,
   "metadata": {},
   "outputs": [
    {
     "name": "stdout",
     "output_type": "stream",
     "text": [
      "[[3. 5. 3. 4. 1.]\n",
      " [5. 3. 2. 1. 1.]\n",
      " [3. 1. 4. 1. 0.]\n",
      " [2. 1. 0. 0. 3.]]\n",
      "[[3. 1. 2.]\n",
      " [1. 4. 3.]\n",
      " [1. 1. 0.]]\n"
     ]
    }
   ],
   "source": [
    "Image=np.array([[3.0,5,3,4,1],[5,3,2,1,1],[3,1,4,1,0],[2,1,0,0,3]])\n",
    "filter1=np.array([[3.0,1,2],[1,4,3],[1,1,0]])\n",
    "print(Image)\n",
    "print(filter1)"
   ]
  },
  {
   "cell_type": "code",
   "execution_count": 6,
   "metadata": {},
   "outputs": [
    {
     "name": "stdout",
     "output_type": "stream",
     "text": [
      "(1, 2, 3, 1)\n",
      "[[[[47.]\n",
      "   [45.]\n",
      "   [29.]]\n",
      "\n",
      "  [[44.]\n",
      "   [34.]\n",
      "   [17.]]]]\n",
      "[[[[5.]\n",
      "   [4.]]\n",
      "\n",
      "  [[3.]\n",
      "   [4.]]]]\n"
     ]
    }
   ],
   "source": [
    "image_tf=tf.reshape(Image,[-1,4,5,1])\n",
    "kernal_tf=tf.reshape(filter1,[3,3,1,1])\n",
    "conv1=tf.nn.conv2d(image_tf,kernal_tf,strides=[1,1,1,1],padding=\"VALID\")\n",
    "with tf.Session() as sess:\n",
    "    conv1_val=sess.run(conv1)\n",
    "    pool1=tf.nn.max_pool(image_tf,ksize=[1,2,2,1],strides=[1,2,2,1],padding='VALID')\n",
    "    pool1_val=sess.run(pool1)\n",
    "    print(conv1_val.shape)\n",
    "    print(conv1_val)\n",
    "    print(pool1_val)"
   ]
  },
  {
   "cell_type": "code",
   "execution_count": 44,
   "metadata": {},
   "outputs": [
    {
     "name": "stdout",
     "output_type": "stream",
     "text": [
      "[[3. 5. 3. 4. 1.]\n",
      " [5. 3. 2. 1. 1.]\n",
      " [3. 1. 4. 1. 0.]\n",
      " [2. 1. 0. 0. 3.]]\n",
      "[[3. 2. 1.]\n",
      " [1. 4. 3.]\n",
      " [1. 1. 0.]]\n",
      "(1, 2, 3, 1)\n",
      "[[[[49.]\n",
      "   [44.]\n",
      "   [32.]]\n",
      "\n",
      "  [[45.]\n",
      "   [35.]\n",
      "   [17.]]]]\n",
      "(1, 2, 2, 1)\n",
      "[[[[5.]\n",
      "   [4.]]\n",
      "\n",
      "  [[3.]\n",
      "   [4.]]]]\n"
     ]
    }
   ],
   "source": []
  },
  {
   "cell_type": "code",
   "execution_count": null,
   "metadata": {},
   "outputs": [],
   "source": []
  }
 ],
 "metadata": {
  "kernelspec": {
   "display_name": "NNlab",
   "language": "python",
   "name": "nnlab"
  },
  "language_info": {
   "codemirror_mode": {
    "name": "ipython",
    "version": 3
   },
   "file_extension": ".py",
   "mimetype": "text/x-python",
   "name": "python",
   "nbconvert_exporter": "python",
   "pygments_lexer": "ipython3",
   "version": "3.6.6"
  }
 },
 "nbformat": 4,
 "nbformat_minor": 2
}
