{
 "cells": [
  {
   "cell_type": "code",
   "execution_count": 1,
   "metadata": {},
   "outputs": [],
   "source": [
    "import numpy as np\n",
    "import tensorflow as tf\n",
    "import matplotlib.pyplot as plt"
   ]
  },
  {
   "cell_type": "code",
   "execution_count": null,
   "metadata": {},
   "outputs": [
    {
     "name": "stdout",
     "output_type": "stream",
     "text": [
      "Epoch 1/500\n",
      "64/64 [==============================] - 2s 33ms/step - loss: 1.1590\n",
      "Epoch 2/500\n",
      "64/64 [==============================] - 0s 672us/step - loss: 1.1234\n",
      "Epoch 3/500\n",
      "64/64 [==============================] - 0s 1ms/step - loss: 1.0954\n",
      "Epoch 4/500\n",
      "64/64 [==============================] - 0s 766us/step - loss: 1.0728\n",
      "Epoch 5/500\n",
      "64/64 [==============================] - 0s 672us/step - loss: 1.0543\n",
      "Epoch 6/500\n",
      "64/64 [==============================] - 0s 484us/step - loss: 1.0389\n",
      "Epoch 7/500\n",
      "64/64 [==============================] - 0s 984us/step - loss: 1.0259\n",
      "Epoch 8/500\n",
      "64/64 [==============================] - 0s 844us/step - loss: 1.0149\n",
      "Epoch 9/500\n",
      "64/64 [==============================] - 0s 2ms/step - loss: 1.0054\n",
      "Epoch 10/500\n",
      "64/64 [==============================] - 0s 2ms/step - loss: 0.9973\n",
      "Epoch 11/500\n",
      "64/64 [==============================] - 0s 406us/step - loss: 0.9901\n",
      "Epoch 12/500\n",
      "64/64 [==============================] - 0s 2ms/step - loss: 0.9838\n",
      "Epoch 13/500\n",
      "64/64 [==============================] - 0s 4ms/step - loss: 0.9783\n",
      "Epoch 14/500\n",
      "64/64 [==============================] - 0s 2ms/step - loss: 0.9734\n",
      "Epoch 15/500\n",
      "64/64 [==============================] - 0s 3ms/step - loss: 0.9689\n",
      "Epoch 16/500\n",
      "64/64 [==============================] - 0s 797us/step - loss: 0.9648\n",
      "Epoch 17/500\n",
      "64/64 [==============================] - 0s 1ms/step - loss: 0.9611\n",
      "Epoch 18/500\n",
      "64/64 [==============================] - 0s 844us/step - loss: 0.9577\n",
      "Epoch 19/500\n",
      "64/64 [==============================] - 0s 1ms/step - loss: 0.9545\n",
      "Epoch 20/500\n",
      "64/64 [==============================] - 0s 2ms/step - loss: 0.9516\n",
      "Epoch 21/500\n",
      "64/64 [==============================] - 0s 922us/step - loss: 0.9488\n",
      "Epoch 22/500\n",
      "64/64 [==============================] - 0s 2ms/step - loss: 0.9461\n",
      "Epoch 23/500\n",
      "64/64 [==============================] - 0s 3ms/step - loss: 0.9436\n",
      "Epoch 24/500\n",
      "64/64 [==============================] - 0s 1ms/step - loss: 0.9411\n",
      "Epoch 25/500\n",
      "64/64 [==============================] - 0s 2ms/step - loss: 0.9387\n",
      "Epoch 26/500\n",
      "64/64 [==============================] - 0s 4ms/step - loss: 0.9364\n"
     ]
    }
   ],
   "source": [
    "N, D, H= 64, 1000, 100\n",
    "x = tf.placeholder(tf.float32, shape=((N, D)))\n",
    "y = tf.placeholder(tf.float32, shape=((N, D)))\n",
    "model = tf.keras.Sequential()\n",
    "model.add(tf.keras.layers.Dense(H, input_shape=(D,), activation=tf.nn.relu))\n",
    "model.add(tf.keras.layers.Dense(D))\n",
    "model.compile(loss=tf.keras.losses.mean_squared_error, optimizer=tf.keras.optimizers.SGD(lr=1e0))\n",
    "x = np.random.randn(N, D)\n",
    "y = np.random.randn(N, D)\n",
    "history = model.fit(x, y, epochs=500, batch_size=N)"
   ]
  },
  {
   "cell_type": "code",
   "execution_count": null,
   "metadata": {},
   "outputs": [],
   "source": []
  }
 ],
 "metadata": {
  "kernelspec": {
   "display_name": "NNlab",
   "language": "python",
   "name": "nnlab"
  },
  "language_info": {
   "codemirror_mode": {
    "name": "ipython",
    "version": 3
   },
   "file_extension": ".py",
   "mimetype": "text/x-python",
   "name": "python",
   "nbconvert_exporter": "python",
   "pygments_lexer": "ipython3",
   "version": "3.6.6"
  }
 },
 "nbformat": 4,
 "nbformat_minor": 2
}
