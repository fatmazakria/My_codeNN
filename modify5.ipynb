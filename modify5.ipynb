{
 "cells": [
  {
   "cell_type": "code",
   "execution_count": 1,
   "metadata": {},
   "outputs": [],
   "source": [
    "import numpy as np\n",
    "import tensorflow as tf\n",
    "import matplotlib.pyplot as plt"
   ]
  },
  {
   "cell_type": "code",
   "execution_count": 2,
   "metadata": {},
   "outputs": [],
   "source": [
    "N, D, H= 64, 1000, 100\n",
    "x = tf.placeholder(tf.float32, shape=((N, D)))\n",
    "y = tf.placeholder(tf.float32, shape=((N, D)))\n",
    "w1 = tf.Variable(tf.random_normal((D, H)))\n",
    "w2 = tf.Variable(tf.random_normal((H, D)))\n",
    "h= tf.maximum(tf.matmul(x,w1), 0)\n",
    "y_pred = tf.matmul(h, w2)\n",
    "loss=tf.losses.mean_squared_error(y_pred,y)"
   ]
  },
  {
   "cell_type": "code",
   "execution_count": 3,
   "metadata": {},
   "outputs": [
    {
     "data": {
      "image/png": "[encoded data removed]",
      "text/plain": [
       "<Figure size 432x288 with 1 Axes>"
      ]
     },
     "metadata": {
      "needs_background": "light"
     },
     "output_type": "display_data"
    }
   ],
   "source": [
    "optimizer=tf.train.GradientDescentOptimizer(1e-5)\n",
    "updates=optimizer.minimize(loss)\n",
    "with tf.Session() as sess:\n",
    "    sess.run(tf.global_variables_initializer())\n",
    "    values = {x: np.random.randn(N, D),\n",
    "                  y: np.random.randn(N, D),}\n",
    "    loss_summary=[]\n",
    "    for t in range(50):\n",
    "        loss_val,_= sess.run([loss, updates],feed_dict=values)\n",
    "        loss_summary.append(loss_val)\n",
    "    plt.plot(range(50), loss_summary, 'go', label='loss_val')\n",
    "    plt.show()\n"
   ]
  },
  {
   "cell_type": "code",
   "execution_count": null,
   "metadata": {},
   "outputs": [],
   "source": []
  }
 ],
 "metadata": {
  "kernelspec": {
   "display_name": "NNlab",
   "language": "python",
   "name": "nnlab"
  },
  "language_info": {
   "codemirror_mode": {
    "name": "ipython",
    "version": 3
   },
   "file_extension": ".py",
   "mimetype": "text/x-python",
   "name": "python",
   "nbconvert_exporter": "python",
   "pygments_lexer": "ipython3",
   "version": "3.6.6"
  }
 },
 "nbformat": 4,
 "nbformat_minor": 2
}
